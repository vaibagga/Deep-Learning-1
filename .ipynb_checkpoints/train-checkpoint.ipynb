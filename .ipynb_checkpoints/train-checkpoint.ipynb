{
 "cells": [
  {
   "cell_type": "code",
   "execution_count": 9,
   "metadata": {},
   "outputs": [],
   "source": [
    "import numpy as np\n",
    "import tensorflow as tf\n",
    "from scipy import misc\n",
    "import os\n",
    "import cv2\n",
    "import pandas as pd\n"
   ]
  },
  {
   "cell_type": "code",
   "execution_count": 20,
   "metadata": {},
   "outputs": [],
   "source": [
    "os.chdir('C:\\\\Users\\\\lenovo\\\\Desktop\\\\Docs\\\\DL1')\n",
    "train = pd.read_csv('train.csv')\n",
    "sample = cv2.imread('C:\\\\Users\\\\lenovo\\\\Desktop\\\\Docs\\\\DL1\\\\scan_0000.png',0)\n",
    "width, height = sample.shape"
   ]
  },
  {
   "cell_type": "code",
   "execution_count": 21,
   "metadata": {},
   "outputs": [],
   "source": [
    "train = pd.read_csv('train.csv')"
   ]
  },
  {
   "cell_type": "code",
   "execution_count": 22,
   "metadata": {
    "collapsed": true
   },
   "outputs": [],
   "source": [
    "training_image_path = 'C:\\\\Users\\\\lenovo\\\\Desktop\\\\Docs\\\\DL1\\\\train_'\n",
    "test_image_path = 'C:\\\\Users\\\\lenovo\\\\Desktop\\\\Docs\\\\DL1\\\\test_'"
   ]
  },
  {
   "cell_type": "code",
   "execution_count": 27,
   "metadata": {},
   "outputs": [],
   "source": [
    "os.chdir(training_image_path)\n",
    "mini_batch_size = 128"
   ]
  },
  {
   "cell_type": "code",
   "execution_count": 24,
   "metadata": {},
   "outputs": [],
   "source": [
    "def create_batches(batch_size,list_of_images):\n",
    "  images = []\n",
    "  for img in list_of_images:\n",
    "    images.append(misc.imread(img))\n",
    "  images = np.asarray(images)\n",
    "\n",
    "  #do something similar for the labels\n",
    "\n",
    "  while (True):\n",
    "    for i in range(0,total,batch_size):\n",
    "      yield(images[i:i+batch_size],labels[i:i+batch_size])"
   ]
  },
  {
   "cell_type": "code",
   "execution_count": 28,
   "metadata": {},
   "outputs": [],
   "source": [
    "X = tf.placeholder('float32',[width, height,mini_batch_size])\n",
    "y = tf.placeholder('float32')"
   ]
  },
  {
   "cell_type": "code",
   "execution_count": 30,
   "metadata": {},
   "outputs": [
    {
     "name": "stdout",
     "output_type": "stream",
     "text": [
      "Tensor(\"add:0\", shape=(1024, 1024, 128), dtype=float32)\n"
     ]
    }
   ],
   "source": [
    "print(X+32)"
   ]
  },
  {
   "cell_type": "code",
   "execution_count": null,
   "metadata": {
    "collapsed": true
   },
   "outputs": [],
   "source": []
  }
 ],
 "metadata": {
  "kernelspec": {
   "display_name": "Python 3",
   "language": "python",
   "name": "python3"
  },
  "language_info": {
   "codemirror_mode": {
    "name": "ipython",
    "version": 3
   },
   "file_extension": ".py",
   "mimetype": "text/x-python",
   "name": "python",
   "nbconvert_exporter": "python",
   "pygments_lexer": "ipython3",
   "version": "3.6.3"
  }
 },
 "nbformat": 4,
 "nbformat_minor": 2
}
