{
 "cells": [
  {
   "cell_type": "markdown",
   "metadata": {},
   "source": []
  },
  {
   "cell_type": "code",
   "execution_count": 41,
   "metadata": {
    "collapsed": true
   },
   "outputs": [],
   "source": [
    "import os\n",
    "import numpy as np\n",
    "import tensorflow as tf\n",
    "import pandas as pd\n",
    "import pickle\n",
    "import matplotlib.pyplot as plt\n",
    "from skimage.transform import resize as imresize\n",
    "import shutil"
   ]
  },
  {
   "cell_type": "code",
   "execution_count": 52,
   "metadata": {},
   "outputs": [
    {
     "name": "stdout",
     "output_type": "stream",
     "text": [
      "(18577, 5)\n"
     ]
    },
    {
     "ename": "FileNotFoundError",
     "evalue": "[Errno 2] No such file or directory: 'C:\\\\Users\\\\lenovo\\\\Desktop\\\\Docs\\\\Deep Learning #1\\\\images\\\\class_3\\\\0            scan_0000.png\\n1            scan_0001.png\\n2           scan_00010.png\\n3         scan_0001000.png\\n4        scan_00010000.png\\n5        scan_00010001.png\\n6        scan_00010003.png\\n7        scan_00010004.png\\n8        scan_00010006.png\\n9        scan_00010007.png\\n10        scan_0001001.png\\n11       scan_00010010.png\\n12       scan_00010011.png\\n13       scan_00010012.png\\n14       scan_00010014.png\\n15       scan_00010016.png\\n16       scan_00010019.png\\n17        scan_0001002.png\\n18       scan_00010021.png\\n19       scan_00010022.png\\n20       scan_00010025.png\\n21       scan_00010026.png\\n22        scan_0001003.png\\n23       scan_00010032.png\\n24       scan_00010034.png\\n25       scan_00010036.png\\n26       scan_00010038.png\\n27       scan_00010039.png\\n28        scan_0001004.png\\n29       scan_00010040.png\\n               ...        \\n18547     scan_0009946.png\\n18548     scan_0009949.png\\n18549     scan_0009954.png\\n18550     scan_0009955.png\\n18551     scan_0009957.png\\n18552     scan_0009958.png\\n18553     scan_0009960.png\\n18554     scan_0009961.png\\n18555     scan_0009962.png\\n18556     scan_0009966.png\\n18557     scan_0009967.png\\n18558     scan_0009969.png\\n18559     scan_0009974.png\\n18560     scan_0009977.png\\n18561     scan_0009978.png\\n18562      scan_000998.png\\n18563     scan_0009980.png\\n18564     scan_0009981.png\\n18565     scan_0009982.png\\n18566     scan_0009984.png\\n18567     scan_0009985.png\\n18568     scan_0009987.png\\n18569      scan_000999.png\\n18570     scan_0009990.png\\n18571     scan_0009992.png\\n18572     scan_0009993.png\\n18573     scan_0009995.png\\n18574     scan_0009996.png\\n18575     scan_0009997.png\\n18576     scan_0009999.png\\nName: image_name, Length: 18577, dtype: object'",
     "output_type": "error",
     "traceback": [
      "\u001b[1;31m---------------------------------------------------------------------------\u001b[0m",
      "\u001b[1;31mFileNotFoundError\u001b[0m                         Traceback (most recent call last)",
      "\u001b[1;32m<ipython-input-52-e9281b7fd519>\u001b[0m in \u001b[0;36m<module>\u001b[1;34m()\u001b[0m\n\u001b[0;32m      6\u001b[0m     \u001b[0mpath\u001b[0m \u001b[1;33m=\u001b[0m \u001b[0mos\u001b[0m\u001b[1;33m.\u001b[0m\u001b[0mgetcwd\u001b[0m\u001b[1;33m(\u001b[0m\u001b[1;33m)\u001b[0m \u001b[1;33m+\u001b[0m \u001b[1;34m'\\\\train_'\u001b[0m \u001b[1;33m+\u001b[0m \u001b[1;34m'\\\\'\u001b[0m \u001b[1;33m+\u001b[0m \u001b[0mstr\u001b[0m\u001b[1;33m(\u001b[0m\u001b[0mtrain\u001b[0m\u001b[1;33m[\u001b[0m\u001b[1;34m'image_name'\u001b[0m\u001b[1;33m]\u001b[0m\u001b[1;33m[\u001b[0m\u001b[0mi\u001b[0m\u001b[1;33m]\u001b[0m\u001b[1;33m)\u001b[0m\u001b[1;33m\u001b[0m\u001b[0m\n\u001b[0;32m      7\u001b[0m     \u001b[0mdest\u001b[0m \u001b[1;33m=\u001b[0m \u001b[0mos\u001b[0m\u001b[1;33m.\u001b[0m\u001b[0mgetcwd\u001b[0m\u001b[1;33m(\u001b[0m\u001b[1;33m)\u001b[0m \u001b[1;33m+\u001b[0m \u001b[1;34m'\\\\images\\\\'\u001b[0m \u001b[1;33m+\u001b[0m \u001b[0mstr\u001b[0m\u001b[1;33m(\u001b[0m\u001b[0mtrain\u001b[0m\u001b[1;33m[\u001b[0m\u001b[1;34m'detected'\u001b[0m\u001b[1;33m]\u001b[0m\u001b[1;33m[\u001b[0m\u001b[0mi\u001b[0m\u001b[1;33m]\u001b[0m \u001b[1;33m+\u001b[0m \u001b[1;34m'\\\\'\u001b[0m \u001b[1;33m+\u001b[0m \u001b[0mstr\u001b[0m\u001b[1;33m(\u001b[0m\u001b[0mtrain\u001b[0m\u001b[1;33m[\u001b[0m\u001b[1;34m'image_name'\u001b[0m\u001b[1;33m]\u001b[0m\u001b[1;33m)\u001b[0m\u001b[1;33m)\u001b[0m\u001b[1;33m\u001b[0m\u001b[0m\n\u001b[1;32m----> 8\u001b[1;33m     \u001b[0mshutil\u001b[0m\u001b[1;33m.\u001b[0m\u001b[0mcopy\u001b[0m\u001b[1;33m(\u001b[0m\u001b[0mpath\u001b[0m\u001b[1;33m,\u001b[0m \u001b[0mdest\u001b[0m\u001b[1;33m)\u001b[0m\u001b[1;33m\u001b[0m\u001b[0m\n\u001b[0m",
      "\u001b[1;32m~\\Anaconda3\\lib\\shutil.py\u001b[0m in \u001b[0;36mcopy\u001b[1;34m(src, dst, follow_symlinks)\u001b[0m\n\u001b[0;32m    239\u001b[0m     \u001b[1;32mif\u001b[0m \u001b[0mos\u001b[0m\u001b[1;33m.\u001b[0m\u001b[0mpath\u001b[0m\u001b[1;33m.\u001b[0m\u001b[0misdir\u001b[0m\u001b[1;33m(\u001b[0m\u001b[0mdst\u001b[0m\u001b[1;33m)\u001b[0m\u001b[1;33m:\u001b[0m\u001b[1;33m\u001b[0m\u001b[0m\n\u001b[0;32m    240\u001b[0m         \u001b[0mdst\u001b[0m \u001b[1;33m=\u001b[0m \u001b[0mos\u001b[0m\u001b[1;33m.\u001b[0m\u001b[0mpath\u001b[0m\u001b[1;33m.\u001b[0m\u001b[0mjoin\u001b[0m\u001b[1;33m(\u001b[0m\u001b[0mdst\u001b[0m\u001b[1;33m,\u001b[0m \u001b[0mos\u001b[0m\u001b[1;33m.\u001b[0m\u001b[0mpath\u001b[0m\u001b[1;33m.\u001b[0m\u001b[0mbasename\u001b[0m\u001b[1;33m(\u001b[0m\u001b[0msrc\u001b[0m\u001b[1;33m)\u001b[0m\u001b[1;33m)\u001b[0m\u001b[1;33m\u001b[0m\u001b[0m\n\u001b[1;32m--> 241\u001b[1;33m     \u001b[0mcopyfile\u001b[0m\u001b[1;33m(\u001b[0m\u001b[0msrc\u001b[0m\u001b[1;33m,\u001b[0m \u001b[0mdst\u001b[0m\u001b[1;33m,\u001b[0m \u001b[0mfollow_symlinks\u001b[0m\u001b[1;33m=\u001b[0m\u001b[0mfollow_symlinks\u001b[0m\u001b[1;33m)\u001b[0m\u001b[1;33m\u001b[0m\u001b[0m\n\u001b[0m\u001b[0;32m    242\u001b[0m     \u001b[0mcopymode\u001b[0m\u001b[1;33m(\u001b[0m\u001b[0msrc\u001b[0m\u001b[1;33m,\u001b[0m \u001b[0mdst\u001b[0m\u001b[1;33m,\u001b[0m \u001b[0mfollow_symlinks\u001b[0m\u001b[1;33m=\u001b[0m\u001b[0mfollow_symlinks\u001b[0m\u001b[1;33m)\u001b[0m\u001b[1;33m\u001b[0m\u001b[0m\n\u001b[0;32m    243\u001b[0m     \u001b[1;32mreturn\u001b[0m \u001b[0mdst\u001b[0m\u001b[1;33m\u001b[0m\u001b[0m\n",
      "\u001b[1;32m~\\Anaconda3\\lib\\shutil.py\u001b[0m in \u001b[0;36mcopyfile\u001b[1;34m(src, dst, follow_symlinks)\u001b[0m\n\u001b[0;32m    119\u001b[0m     \u001b[1;32melse\u001b[0m\u001b[1;33m:\u001b[0m\u001b[1;33m\u001b[0m\u001b[0m\n\u001b[0;32m    120\u001b[0m         \u001b[1;32mwith\u001b[0m \u001b[0mopen\u001b[0m\u001b[1;33m(\u001b[0m\u001b[0msrc\u001b[0m\u001b[1;33m,\u001b[0m \u001b[1;34m'rb'\u001b[0m\u001b[1;33m)\u001b[0m \u001b[1;32mas\u001b[0m \u001b[0mfsrc\u001b[0m\u001b[1;33m:\u001b[0m\u001b[1;33m\u001b[0m\u001b[0m\n\u001b[1;32m--> 121\u001b[1;33m             \u001b[1;32mwith\u001b[0m \u001b[0mopen\u001b[0m\u001b[1;33m(\u001b[0m\u001b[0mdst\u001b[0m\u001b[1;33m,\u001b[0m \u001b[1;34m'wb'\u001b[0m\u001b[1;33m)\u001b[0m \u001b[1;32mas\u001b[0m \u001b[0mfdst\u001b[0m\u001b[1;33m:\u001b[0m\u001b[1;33m\u001b[0m\u001b[0m\n\u001b[0m\u001b[0;32m    122\u001b[0m                 \u001b[0mcopyfileobj\u001b[0m\u001b[1;33m(\u001b[0m\u001b[0mfsrc\u001b[0m\u001b[1;33m,\u001b[0m \u001b[0mfdst\u001b[0m\u001b[1;33m)\u001b[0m\u001b[1;33m\u001b[0m\u001b[0m\n\u001b[0;32m    123\u001b[0m     \u001b[1;32mreturn\u001b[0m \u001b[0mdst\u001b[0m\u001b[1;33m\u001b[0m\u001b[0m\n",
      "\u001b[1;31mFileNotFoundError\u001b[0m: [Errno 2] No such file or directory: 'C:\\\\Users\\\\lenovo\\\\Desktop\\\\Docs\\\\Deep Learning #1\\\\images\\\\class_3\\\\0            scan_0000.png\\n1            scan_0001.png\\n2           scan_00010.png\\n3         scan_0001000.png\\n4        scan_00010000.png\\n5        scan_00010001.png\\n6        scan_00010003.png\\n7        scan_00010004.png\\n8        scan_00010006.png\\n9        scan_00010007.png\\n10        scan_0001001.png\\n11       scan_00010010.png\\n12       scan_00010011.png\\n13       scan_00010012.png\\n14       scan_00010014.png\\n15       scan_00010016.png\\n16       scan_00010019.png\\n17        scan_0001002.png\\n18       scan_00010021.png\\n19       scan_00010022.png\\n20       scan_00010025.png\\n21       scan_00010026.png\\n22        scan_0001003.png\\n23       scan_00010032.png\\n24       scan_00010034.png\\n25       scan_00010036.png\\n26       scan_00010038.png\\n27       scan_00010039.png\\n28        scan_0001004.png\\n29       scan_00010040.png\\n               ...        \\n18547     scan_0009946.png\\n18548     scan_0009949.png\\n18549     scan_0009954.png\\n18550     scan_0009955.png\\n18551     scan_0009957.png\\n18552     scan_0009958.png\\n18553     scan_0009960.png\\n18554     scan_0009961.png\\n18555     scan_0009962.png\\n18556     scan_0009966.png\\n18557     scan_0009967.png\\n18558     scan_0009969.png\\n18559     scan_0009974.png\\n18560     scan_0009977.png\\n18561     scan_0009978.png\\n18562      scan_000998.png\\n18563     scan_0009980.png\\n18564     scan_0009981.png\\n18565     scan_0009982.png\\n18566     scan_0009984.png\\n18567     scan_0009985.png\\n18568     scan_0009987.png\\n18569      scan_000999.png\\n18570     scan_0009990.png\\n18571     scan_0009992.png\\n18572     scan_0009993.png\\n18573     scan_0009995.png\\n18574     scan_0009996.png\\n18575     scan_0009997.png\\n18576     scan_0009999.png\\nName: image_name, Length: 18577, dtype: object'"
     ]
    }
   ],
   "source": [
    "train = pd.read_csv('train.csv')\n",
    "train.drop(['row_id'], inplace = True,axis = 1)\n",
    "train['gender'] = pd.get_dummies(train['gender'])\n",
    "print(train.shape)\n",
    "for i in range(train.shape[0]):\n",
    "    path = os.getcwd() + '\\\\train_' + '\\\\' + str(train['image_name'][i])\n",
    "    dest = os.getcwd() + '\\\\images\\\\' + str(train['detected'][i] + '\\\\' + str(train['image_name']))\n",
    "    shutil.copy(path, dest)"
   ]
  },
  {
   "cell_type": "code",
   "execution_count": 27,
   "metadata": {},
   "outputs": [],
   "source": []
  },
  {
   "cell_type": "code",
   "execution_count": null,
   "metadata": {
    "collapsed": true
   },
   "outputs": [],
   "source": []
  }
 ],
 "metadata": {
  "kernelspec": {
   "display_name": "Python 3",
   "language": "python",
   "name": "python3"
  },
  "language_info": {
   "codemirror_mode": {
    "name": "ipython",
    "version": 3
   },
   "file_extension": ".py",
   "mimetype": "text/x-python",
   "name": "python",
   "nbconvert_exporter": "python",
   "pygments_lexer": "ipython3",
   "version": "3.6.3"
  }
 },
 "nbformat": 4,
 "nbformat_minor": 2
}
